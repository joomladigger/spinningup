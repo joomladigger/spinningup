{
 "cells": [
  {
   "cell_type": "code",
   "execution_count": 2,
   "metadata": {},
   "outputs": [],
   "source": [
    "import os\n",
    "os.environ['TF_CPP_MIN_LOG_LEVEL']='2' #显示log的详细程度 0 为最详细 取： 0 1 2\n",
    "import tensorflow as tf\n",
    "import numpy as np\n",
    "import gym\n",
    "from gym.spaces import Discrete, Box"
   ]
  },
  {
   "cell_type": "code",
   "execution_count": 3,
   "metadata": {},
   "outputs": [],
   "source": [
    "env_name = \"CartPole-v0\"\n",
    "env = gym.make(env_name)"
   ]
  },
  {
   "cell_type": "code",
   "execution_count": 5,
   "metadata": {},
   "outputs": [
    {
     "data": {
      "text/plain": [
       "4"
      ]
     },
     "execution_count": 5,
     "metadata": {},
     "output_type": "execute_result"
    }
   ],
   "source": [
    "obs_dim = env.observation_space.shape[0]\n",
    "obs_dim"
   ]
  },
  {
   "cell_type": "code",
   "execution_count": 6,
   "metadata": {},
   "outputs": [
    {
     "data": {
      "text/plain": [
       "2"
      ]
     },
     "execution_count": 6,
     "metadata": {},
     "output_type": "execute_result"
    }
   ],
   "source": [
    "n_acts = env.action_space.n\n",
    "n_acts"
   ]
  },
  {
   "cell_type": "code",
   "execution_count": 17,
   "metadata": {},
   "outputs": [
    {
     "data": {
      "text/plain": [
       "<tf.Tensor 'Placeholder_1:0' shape=(?, 4) dtype=float32>"
      ]
     },
     "execution_count": 17,
     "metadata": {},
     "output_type": "execute_result"
    }
   ],
   "source": [
    "obs_ph = tf.placeholder(shape=(None, obs_dim), dtype=tf.float32)\n",
    "obs_ph"
   ]
  },
  {
   "cell_type": "code",
   "execution_count": 8,
   "metadata": {},
   "outputs": [],
   "source": [
    "def mlp(x, sizes, activation=tf.tanh, output_activation=None):\n",
    "    # Build a feedforward neural network.\n",
    "    for size in sizes[:-1]:\n",
    "        x = tf.layers.dense(x, units=size, activation=activation)\n",
    "    return tf.layers.dense(x, units=sizes[-1], activation=output_activation)"
   ]
  },
  {
   "cell_type": "code",
   "execution_count": 19,
   "metadata": {},
   "outputs": [],
   "source": [
    "hidden_sizes=[32]\n",
    "logits = mlp(obs_ph, sizes=c)  # input:4  hidden layer:32  output:2"
   ]
  },
  {
   "cell_type": "code",
   "execution_count": 20,
   "metadata": {},
   "outputs": [
    {
     "data": {
      "text/plain": [
       "[32, 2]"
      ]
     },
     "execution_count": 20,
     "metadata": {},
     "output_type": "execute_result"
    }
   ],
   "source": [
    "hidden_sizes+[n_acts]"
   ]
  },
  {
   "cell_type": "code",
   "execution_count": 22,
   "metadata": {},
   "outputs": [
    {
     "data": {
      "text/plain": [
       "<tf.Tensor 'Squeeze_1:0' shape=(?,) dtype=int64>"
      ]
     },
     "execution_count": 22,
     "metadata": {},
     "output_type": "execute_result"
    }
   ],
   "source": [
    "# make action selection op (outputs int actions, sampled from policy)\n",
    "actions = tf.squeeze(tf.multinomial(logits=logits,num_samples=1), axis=1)\n",
    "actions"
   ]
  },
  {
   "cell_type": "code",
   "execution_count": 23,
   "metadata": {},
   "outputs": [],
   "source": [
    "weights_ph = tf.placeholder(shape=(None,), dtype=tf.float32)"
   ]
  },
  {
   "cell_type": "code",
   "execution_count": 24,
   "metadata": {},
   "outputs": [],
   "source": [
    "act_ph = tf.placeholder(shape=(None,), dtype=tf.int32)\n",
    "action_masks = tf.one_hot(act_ph, n_acts)\n",
    "log_probs = tf.reduce_sum(action_masks * tf.nn.log_softmax(logits), axis=1)\n",
    "loss = -tf.reduce_mean(weights_ph * log_probs)"
   ]
  },
  {
   "cell_type": "code",
   "execution_count": 33,
   "metadata": {},
   "outputs": [
    {
     "data": {
      "text/plain": [
       "<tf.Tensor 'one_hot:0' shape=(?, 2) dtype=float32>"
      ]
     },
     "execution_count": 33,
     "metadata": {},
     "output_type": "execute_result"
    }
   ],
   "source": [
    "action_masks"
   ]
  },
  {
   "cell_type": "code",
   "execution_count": 26,
   "metadata": {},
   "outputs": [],
   "source": [
    "lr = 1e-2\n",
    "train_op = tf.train.AdamOptimizer(learning_rate=lr).minimize(loss)\n",
    "\n",
    "sess = tf.InteractiveSession()\n",
    "sess.run(tf.global_variables_initializer())"
   ]
  },
  {
   "cell_type": "code",
   "execution_count": 27,
   "metadata": {},
   "outputs": [],
   "source": [
    "\n",
    "    # for training policy\n",
    "    def train_one_epoch():\n",
    "        # make some empty lists for logging.\n",
    "        batch_obs = []          # for observations\n",
    "        batch_acts = []         # for actions\n",
    "        batch_weights = []      # for R(tau) weighting in policy gradient\n",
    "        batch_rets = []         # for measuring episode returns\n",
    "        batch_lens = []         # for measuring episode lengths\n",
    "\n",
    "        # reset episode-specific variables\n",
    "        obs = env.reset()       # first obs comes from starting distribution\n",
    "        done = False            # signal from environment that episode is over\n",
    "        ep_rews = []            # list for rewards accrued throughout ep\n",
    "\n",
    "        # render first episode of each epoch\n",
    "        finished_rendering_this_epoch = False\n",
    "\n",
    "        # collect experience by acting in the environment with current policy\n",
    "        while True:\n",
    "\n",
    "            # rendering\n",
    "            if (not finished_rendering_this_epoch) and render:\n",
    "                env.render()\n",
    "\n",
    "            # save obs\n",
    "            batch_obs.append(obs.copy())\n",
    "\n",
    "            # act in the environment\n",
    "            act = sess.run(actions, {obs_ph: obs.reshape(1,-1)})[0]\n",
    "            obs, rew, done, _ = env.step(act)\n",
    "\n",
    "            # save action, reward\n",
    "            batch_acts.append(act)\n",
    "            ep_rews.append(rew)\n",
    "\n",
    "            if done:\n",
    "                # if episode is over, record info about episode\n",
    "                ep_ret, ep_len = sum(ep_rews), len(ep_rews)\n",
    "                batch_rets.append(ep_ret)\n",
    "                batch_lens.append(ep_len)\n",
    "\n",
    "                # the weight for each logprob(a|s) is R(tau)\n",
    "                batch_weights += [ep_ret] * ep_len\n",
    "\n",
    "                # reset episode-specific variables\n",
    "                obs, done, ep_rews = env.reset(), False, []\n",
    "\n",
    "                # won't render again this epoch\n",
    "                finished_rendering_this_epoch = True\n",
    "\n",
    "                # end experience loop if we have enough of it\n",
    "                if len(batch_obs) > batch_size:\n",
    "                    break\n",
    "                            # take a single policy gradient update step\n",
    "        batch_loss, _ = sess.run([loss, train_op],\n",
    "                                 feed_dict={\n",
    "                                    obs_ph: np.array(batch_obs),\n",
    "                                    act_ph: np.array(batch_acts),\n",
    "                                    weights_ph: np.array(batch_weights)\n",
    "                                 })\n",
    "        return batch_loss, batch_rets, batch_lens"
   ]
  },
  {
   "cell_type": "code",
   "execution_count": 34,
   "metadata": {},
   "outputs": [
    {
     "name": "stdout",
     "output_type": "stream",
     "text": [
      "epoch:   0 \t loss: 99.923 \t return: 200.000 \t ep_len: 200.000\n",
      "epoch:   1 \t loss: 98.348 \t return: 197.115 \t ep_len: 197.115\n",
      "epoch:   2 \t loss: 98.417 \t return: 200.000 \t ep_len: 200.000\n",
      "epoch:   3 \t loss: 97.963 \t return: 195.885 \t ep_len: 195.885\n",
      "epoch:   4 \t loss: 98.509 \t return: 200.000 \t ep_len: 200.000\n",
      "epoch:   5 \t loss: 99.114 \t return: 197.038 \t ep_len: 197.038\n",
      "epoch:   6 \t loss: 94.741 \t return: 188.148 \t ep_len: 188.148\n",
      "epoch:   7 \t loss: 99.342 \t return: 200.000 \t ep_len: 200.000\n",
      "epoch:   8 \t loss: 99.060 \t return: 200.000 \t ep_len: 200.000\n",
      "epoch:   9 \t loss: 98.611 \t return: 195.885 \t ep_len: 195.885\n",
      "epoch:  10 \t loss: 98.903 \t return: 199.308 \t ep_len: 199.308\n",
      "epoch:  11 \t loss: 97.139 \t return: 187.741 \t ep_len: 187.741\n",
      "epoch:  12 \t loss: 99.644 \t return: 195.808 \t ep_len: 195.808\n",
      "epoch:  13 \t loss: 96.779 \t return: 194.000 \t ep_len: 194.000\n",
      "epoch:  14 \t loss: 98.422 \t return: 195.500 \t ep_len: 195.500\n",
      "epoch:  15 \t loss: 99.275 \t return: 198.231 \t ep_len: 198.231\n",
      "epoch:  16 \t loss: 94.094 \t return: 176.552 \t ep_len: 176.552\n",
      "epoch:  17 \t loss: 97.518 \t return: 192.259 \t ep_len: 192.259\n",
      "epoch:  18 \t loss: 95.175 \t return: 181.429 \t ep_len: 181.429\n",
      "epoch:  19 \t loss: 93.888 \t return: 173.172 \t ep_len: 173.172\n",
      "epoch:  20 \t loss: 98.369 \t return: 194.885 \t ep_len: 194.885\n",
      "epoch:  21 \t loss: 98.385 \t return: 197.077 \t ep_len: 197.077\n",
      "epoch:  22 \t loss: 97.078 \t return: 190.222 \t ep_len: 190.222\n",
      "epoch:  23 \t loss: 91.406 \t return: 173.034 \t ep_len: 173.034\n",
      "epoch:  24 \t loss: 98.845 \t return: 190.963 \t ep_len: 190.963\n",
      "epoch:  25 \t loss: 97.534 \t return: 190.741 \t ep_len: 190.741\n",
      "epoch:  26 \t loss: 96.395 \t return: 186.852 \t ep_len: 186.852\n",
      "epoch:  27 \t loss: 98.933 \t return: 194.538 \t ep_len: 194.538\n",
      "epoch:  28 \t loss: 98.513 \t return: 192.519 \t ep_len: 192.519\n",
      "epoch:  29 \t loss: 97.243 \t return: 179.643 \t ep_len: 179.643\n"
     ]
    }
   ],
   "source": [
    "epochs = 30\n",
    "render = \"store_true\"\n",
    "batch_size = 5000\n",
    "for i in range(epochs):\n",
    "    batch_loss, batch_rets, batch_lens = train_one_epoch()\n",
    "    print('epoch: %3d \\t loss: %.3f \\t return: %.3f \\t ep_len: %.3f'%\n",
    "            (i, batch_loss, np.mean(batch_rets), np.mean(batch_lens)))"
   ]
  },
  {
   "cell_type": "code",
   "execution_count": null,
   "metadata": {},
   "outputs": [],
   "source": []
  }
 ],
 "metadata": {
  "kernelspec": {
   "display_name": "Python 3",
   "language": "python",
   "name": "python3"
  },
  "language_info": {
   "codemirror_mode": {
    "name": "ipython",
    "version": 3
   },
   "file_extension": ".py",
   "mimetype": "text/x-python",
   "name": "python",
   "nbconvert_exporter": "python",
   "pygments_lexer": "ipython3",
   "version": "3.7.3"
  }
 },
 "nbformat": 4,
 "nbformat_minor": 2
}
